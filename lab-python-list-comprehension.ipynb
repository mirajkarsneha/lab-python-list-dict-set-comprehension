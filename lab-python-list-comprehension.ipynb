{
 "cells": [
  {
   "cell_type": "markdown",
   "id": "25d7736c-ba17-4aff-b6bb-66eba20fbf4e",
   "metadata": {},
   "source": [
    "# Lab | List, Dict and Set Comprehension"
   ]
  },
  {
   "cell_type": "markdown",
   "id": "7dd3cbde-675a-4b81-92c3-f728846dbe06",
   "metadata": {},
   "source": [
    "## Exercise: Managing Customer Orders Optimized with Comprehension"
   ]
  },
  {
   "cell_type": "code",
   "execution_count": null,
   "id": "ec25d440-d6b5-48f3-bcde-b098fdd90181",
   "metadata": {},
   "outputs": [],
   "source": [
    "In the previous exercise, you developed a program to manage customer orders and inventory. Now, let's take it a step further and incorporate comprehension into your code.\n",
    "\n",
    "Follow the steps below to complete the exercise:\n",
    "\n",
    "1. Review your code from the previous exercise and identify areas where you can apply comprehension to simplify and streamline your code. \n",
    "\n",
    "    - *Hint: Apply it to initialize inventory, updating the inventory and printing the updated inventory.*\n",
    "    \n",
    "    - For example, in initializing the inventory, we could have:\n",
    "    \n",
    "        ```python\n",
    "        def initialize_inventory(products):\n",
    "            inventory = {product: int(input(f\"Enter the quantity of {product}s available: \")) for product in products}\n",
    "            return inventory\n",
    "\n",
    "        ```\n",
    "<br>\n",
    "    \n",
    "    \n",
    "2. Modify the function get_customer_orders so it prompts the user to enter the number of customer orders and gathers the product names using a loop and user input. Use comprehension.\n",
    "\n",
    "3. Add a new function to calculate the total price of the customer order. For each product in customer_orders, prompt the user to enter the price of that product. Use comprehension to calculate the total price. Note: assume that the user can only have 1 unit of each product.\n",
    "\n",
    "4. Modify the update_inventory function to remove the product from the inventory if its quantity becomes zero after fulfilling the customer orders. Use comprehension to filter out the products with a quantity of zero from the inventory.\n",
    "\n",
    "5. Print the total price of the customer order.\n",
    "\n",
    "Your code should produce output similar to the following:\n",
    "\n",
    "```python\n",
    "Enter the quantity of t-shirts available:  5\n",
    "Enter the quantity of mugs available:  4\n",
    "Enter the quantity of hats available:  3\n",
    "Enter the quantity of books available:  2\n",
    "Enter the quantity of keychains available:  1\n",
    "Enter the number of customer orders:  2\n",
    "Enter the name of a product that a customer wants to order:  hat\n",
    "Enter the name of a product that a customer wants to order:  keychain\n",
    "\n",
    "Order Statistics:\n",
    "Total Products Ordered: 2\n",
    "Percentage of Unique Products Ordered: 40.0\n",
    "\n",
    "Updated Inventory:\n",
    "t-shirt: 5\n",
    "mug: 4\n",
    "hat: 2\n",
    "book: 2\n",
    "Enter the price of keychain:  5\n",
    "Enter the price of hat:  10\n",
    "Total Price: 15.0\n",
    "\n",
    "```\n"
   ]
  },
  {
   "cell_type": "code",
   "execution_count": 352,
   "id": "0139398b-0e05-4539-9733-2dbd561f27ab",
   "metadata": {},
   "outputs": [],
   "source": [
    "# 1. Review\n",
    "def initialize_inventory(products):\n",
    "    #Inside the function, implement the code for initializing the inventory dictionary using a loop and user input. \n",
    "    inventory = {product: int(input(f\"Enter the quantity of each {product}s available in the inventory: \")) for product in products}\n",
    "    return inventory"
   ]
  },
  {
   "cell_type": "code",
   "execution_count": 354,
   "id": "3176dff2-8122-4b7d-8833-e9ac282d195e",
   "metadata": {},
   "outputs": [],
   "source": [
    "# 2. Modify the function get_customer_orders so it prompts the user to enter the number of customer orders and gathers the product names using a loop and user input. Use comprehension.\n",
    "def get_customer_orders(products): \n",
    "     orders = int(input(\"Enter the number of customer orders: \"))\n",
    "     customer_orders = {product:input(f\"Enter the name of a product that a customer wants to order {product+1}:\") for product in range(orders)}\n",
    "     return customer_orders"
   ]
  },
  {
   "cell_type": "code",
   "execution_count": 360,
   "id": "5cecfc0e-6af4-4123-9b9d-b239dcee30bb",
   "metadata": {},
   "outputs": [],
   "source": [
    "# 3. Add a new function to calculate the total price of the customer order. For each product in customer_orders, prompt the user to enter the price of that product. Use comprehension to calculate the total price. Note: assume that the user can only have 1 unit of each product.\n",
    "def calculate_total_price(customer_orders):\n",
    "    # Using list comprehension to prompt for each product's price and calculate the total price\n",
    "    total_price = sum([float(input(f\"Enter the price for {product}: \")) for product in customer_orders])\n",
    "    return total_price"
   ]
  },
  {
   "cell_type": "code",
   "execution_count": 362,
   "id": "fac70b07-2f9f-40f0-8816-f9ccb216ab44",
   "metadata": {},
   "outputs": [],
   "source": [
    "def calculate_order_statistics(customer_orders):\n",
    "    #total_price_of_customer_order = sum([float(input(f\"Enter the price for {product}: \")) for product in customer_orders])\n",
    "    total_products = len(customer_orders)\n",
    "    unique_products = len(set(customer_orders))\n",
    "    percentage_unique = (unique_products / total_products) * 100 if total_products > 0 else 0\n",
    "    print(\"Order Statistics:\")\n",
    "    print(f\"Total Products Ordered: {total_products}\")\n",
    "    print(f\"Percentage of Unique Products Ordered: {percentage_unique:.1f}%\")\n",
    "    \n",
    "    return total_products, percentage_unique"
   ]
  },
  {
   "cell_type": "code",
   "execution_count": 364,
   "id": "218c5b82-e48b-4796-ad16-42e9260626a3",
   "metadata": {},
   "outputs": [],
   "source": [
    "#4. Modify the update_inventory function to remove the product from the inventory if its quantity becomes zero after fulfilling the customer orders. Use comprehension to filter out the products with a quantity of zero from the inventory.\n",
    "def update_inventory(customer_orders, inventory):\n",
    "#Inside the function, implement the code for updating the inventory dictionary based on the customer orders.\n",
    "        \n",
    "    #update_inventory = {product: (quantity - 1 if product in customer_orders else quantity) for product, quantity in inventory.items()}\n",
    "    #update_inventory = {product:quantity for product, quantity in inventory.items() if quantity > 0}\n",
    "    updated_inventory = {product: quantity - 1 for product, quantity in inventory.items() if product not in customer_orders or quantity - 1 > 0}\n",
    "    return updated_inventory\n"
   ]
  },
  {
   "cell_type": "code",
   "execution_count": 366,
   "id": "b16dc33e-9d67-4f95-b781-89ea686afac2",
   "metadata": {},
   "outputs": [
    {
     "name": "stdin",
     "output_type": "stream",
     "text": [
      "Enter the quantity of each t-shirts available in the inventory:  2\n",
      "Enter the quantity of each mugs available in the inventory:  3\n",
      "Enter the quantity of each hats available in the inventory:  4\n",
      "Enter the quantity of each books available in the inventory:  4\n",
      "Enter the quantity of each keychains available in the inventory:  7\n",
      "Enter the number of customer orders:  1\n",
      "Enter the name of a product that a customer wants to order 1: mug\n",
      "Enter the price for banana:  23\n",
      "Enter the price for apple:  34\n"
     ]
    },
    {
     "name": "stdout",
     "output_type": "stream",
     "text": [
      "Order Statistics:\n",
      "Total Products Ordered: 2\n",
      "Percentage of Unique Products Ordered: 100.0%\n"
     ]
    },
    {
     "ename": "AttributeError",
     "evalue": "'set' object has no attribute 'items'",
     "output_type": "error",
     "traceback": [
      "\u001b[0;31m---------------------------------------------------------------------------\u001b[0m",
      "\u001b[0;31mAttributeError\u001b[0m                            Traceback (most recent call last)",
      "Cell \u001b[0;32mIn[366], line 5\u001b[0m\n\u001b[1;32m      3\u001b[0m calculate_total_price(customer_orders)\n\u001b[1;32m      4\u001b[0m calculate_order_statistics(customer_orders)\n\u001b[0;32m----> 5\u001b[0m update_inventory(customer_orders, inventory)\n\u001b[1;32m      6\u001b[0m \u001b[38;5;28mprint\u001b[39m(\u001b[38;5;124m\"\u001b[39m\u001b[38;5;124mTotal Price:\u001b[39m\u001b[38;5;124m\"\u001b[39m, calculate_total_price)\n",
      "Cell \u001b[0;32mIn[364], line 7\u001b[0m, in \u001b[0;36mupdate_inventory\u001b[0;34m(customer_orders, inventory)\u001b[0m\n\u001b[1;32m      2\u001b[0m \u001b[38;5;28;01mdef\u001b[39;00m \u001b[38;5;21mupdate_inventory\u001b[39m(customer_orders, inventory):\n\u001b[1;32m      3\u001b[0m \u001b[38;5;66;03m#Inside the function, implement the code for updating the inventory dictionary based on the customer orders.\u001b[39;00m\n\u001b[1;32m      4\u001b[0m         \n\u001b[1;32m      5\u001b[0m     \u001b[38;5;66;03m#update_inventory = {product: (quantity - 1 if product in customer_orders else quantity) for product, quantity in inventory.items()}\u001b[39;00m\n\u001b[1;32m      6\u001b[0m     \u001b[38;5;66;03m#update_inventory = {product:quantity for product, quantity in inventory.items() if quantity > 0}\u001b[39;00m\n\u001b[0;32m----> 7\u001b[0m     updated_inventory \u001b[38;5;241m=\u001b[39m {product: quantity \u001b[38;5;241m-\u001b[39m \u001b[38;5;241m1\u001b[39m \u001b[38;5;28;01mfor\u001b[39;00m product, quantity \u001b[38;5;129;01min\u001b[39;00m inventory\u001b[38;5;241m.\u001b[39mitems() \u001b[38;5;28;01mif\u001b[39;00m product \u001b[38;5;129;01mnot\u001b[39;00m \u001b[38;5;129;01min\u001b[39;00m customer_orders \u001b[38;5;129;01mor\u001b[39;00m quantity \u001b[38;5;241m-\u001b[39m \u001b[38;5;241m1\u001b[39m \u001b[38;5;241m>\u001b[39m \u001b[38;5;241m0\u001b[39m}\n\u001b[1;32m      8\u001b[0m     \u001b[38;5;28;01mreturn\u001b[39;00m updated_inventory\n",
      "\u001b[0;31mAttributeError\u001b[0m: 'set' object has no attribute 'items'"
     ]
    }
   ],
   "source": [
    "initialize_inventory(products)\n",
    "get_customer_orders(products)\n",
    "calculate_total_price(customer_orders)\n",
    "calculate_order_statistics(customer_orders)\n",
    "update_inventory(customer_orders, inventory)\n",
    "print(\"Total Price:\", calculate_total_price)"
   ]
  },
  {
   "cell_type": "code",
   "execution_count": null,
   "id": "c52862a9-5443-4cd1-bd40-56afa17cacb5",
   "metadata": {},
   "outputs": [],
   "source": []
  }
 ],
 "metadata": {
  "kernelspec": {
   "display_name": "Python 3 (ipykernel)",
   "language": "python",
   "name": "python3"
  },
  "language_info": {
   "codemirror_mode": {
    "name": "ipython",
    "version": 3
   },
   "file_extension": ".py",
   "mimetype": "text/x-python",
   "name": "python",
   "nbconvert_exporter": "python",
   "pygments_lexer": "ipython3",
   "version": "3.12.4"
  }
 },
 "nbformat": 4,
 "nbformat_minor": 5
}
